{
 "cells": [
  {
   "cell_type": "code",
   "execution_count": 1,
   "metadata": {},
   "outputs": [],
   "source": [
    "import numpy as np\n",
    "import matplotlib.pyplot as plt"
   ]
  },
  {
   "cell_type": "code",
   "execution_count": 2,
   "metadata": {},
   "outputs": [],
   "source": [
    "def type1_attack(data, start_point, duration, alpha_range=(0.2, 0.8)):\n",
    "    alpha = np.random.uniform(*alpha_range)\n",
    "    end_point = start_point + duration\n",
    "    data[:, :, start_point:end_point] *= alpha\n",
    "    return data\n",
    "\n",
    "def type2_attack(data, start_point, duration, sigma):\n",
    "    end_point = start_point + duration\n",
    "    for i in range(data.shape[0]):\n",
    "        for j in range(data.shape[1]):\n",
    "            data[i, j, start_point:end_point] = np.clip(data[i, j, start_point:end_point], None, sigma)\n",
    "    return data\n",
    "\n",
    "def type3_attack(data, start_point, duration, gamma):\n",
    "    end_point = start_point + duration\n",
    "    data[:, :, start_point:end_point] -= gamma\n",
    "    data = np.maximum(data, 0)  # Ensure no negative values\n",
    "    return data\n",
    "\n",
    "def type4_attack(data, start_point, duration):\n",
    "    end_point = start_point + duration\n",
    "    data[:, :, start_point:end_point] = 0\n",
    "    return data\n",
    "\n",
    "def type5_attack(data, start_point, duration, alpha_range=(0.2, 0.8)):\n",
    "    end_point = start_point + duration\n",
    "    for t in range(start_point, end_point):\n",
    "        alpha_t = np.random.uniform(*alpha_range)\n",
    "        data[:, :, t] *= alpha_t\n",
    "    return data\n",
    "\n",
    "def type6_attack(data, start_point, duration, alpha_range=(0.2, 0.8)):\n",
    "    end_point = start_point + duration\n",
    "    for t in range(start_point, end_point):\n",
    "        alpha_t = np.random.uniform(*alpha_range)\n",
    "        daily_average = np.mean(data[:, :, :], axis=2, keepdims=True)\n",
    "        data[:, :, t] = alpha_t * daily_average[:, :, 0]\n",
    "    return data"
   ]
  },
  {
   "cell_type": "code",
   "execution_count": 3,
   "metadata": {},
   "outputs": [],
   "source": [
    "# Generate example data (1 batch, 1 channel, 48 data points)\n",
    "data = np.random.rand(1, 1, 90) * 100\n",
    "original_data = data.copy()\n",
    "\n",
    "start_point = 10\n",
    "duration = 50"
   ]
  },
  {
   "cell_type": "code",
   "execution_count": 4,
   "metadata": {},
   "outputs": [],
   "source": [
    "# Apply attacks\n",
    "data_type1 = type1_attack(data.copy(), start_point, duration)\n",
    "data_type2 = type2_attack(data.copy(), start_point, duration, sigma=30)\n",
    "data_type3 = type3_attack(data.copy(), start_point, duration, gamma=10)\n",
    "data_type4 = type4_attack(data.copy(), start_point, duration)\n",
    "data_type5 = type5_attack(data.copy(), start_point, duration)\n",
    "data_type6 = type6_attack(data.copy(), start_point, duration)"
   ]
  },
  {
   "cell_type": "code",
   "execution_count": 5,
   "metadata": {},
   "outputs": [],
   "source": [
    "# Plotting function\n",
    "def plot_attack(original, attacked, attack_type):\n",
    "    plt.figure(figsize=(10, 6))\n",
    "    plt.plot(original.flatten(), label='Original')\n",
    "    plt.plot(attacked.flatten(), label=f'After {attack_type} Attack')\n",
    "    plt.legend()\n",
    "    plt.title(f'{attack_type} Attack')\n",
    "    plt.xlabel('Time Interval')\n",
    "    plt.ylabel('Electricity Consumption')\n",
    "    plt.savefig(f'{attack_type}_attack.png')\n",
    "    plt.close()"
   ]
  },
  {
   "cell_type": "code",
   "execution_count": 6,
   "metadata": {},
   "outputs": [
    {
     "data": {
      "text/plain": [
       "['Type 1_attack.png',\n",
       " 'Type 2_attack.png',\n",
       " 'Type 3_attack.png',\n",
       " 'Type 4_attack.png',\n",
       " 'Type 5_attack.png',\n",
       " 'Type 6_attack.png']"
      ]
     },
     "execution_count": 6,
     "metadata": {},
     "output_type": "execute_result"
    }
   ],
   "source": [
    "# Plot and save figures\n",
    "plot_attack(original_data, data_type1, 'Type 1')\n",
    "plot_attack(original_data, data_type2, 'Type 2')\n",
    "plot_attack(original_data, data_type3, 'Type 3')\n",
    "plot_attack(original_data, data_type4, 'Type 4')\n",
    "plot_attack(original_data, data_type5, 'Type 5')\n",
    "plot_attack(original_data, data_type6, 'Type 6')\n",
    "\n",
    "# Displaying the file names of the saved plots\n",
    "['Type 1_attack.png', 'Type 2_attack.png', 'Type 3_attack.png', 'Type 4_attack.png', 'Type 5_attack.png', 'Type 6_attack.png']"
   ]
  }
 ],
 "metadata": {
  "kernelspec": {
   "display_name": "GAN",
   "language": "python",
   "name": "python3"
  },
  "language_info": {
   "codemirror_mode": {
    "name": "ipython",
    "version": 3
   },
   "file_extension": ".py",
   "mimetype": "text/x-python",
   "name": "python",
   "nbconvert_exporter": "python",
   "pygments_lexer": "ipython3",
   "version": "3.12.2"
  }
 },
 "nbformat": 4,
 "nbformat_minor": 2
}
