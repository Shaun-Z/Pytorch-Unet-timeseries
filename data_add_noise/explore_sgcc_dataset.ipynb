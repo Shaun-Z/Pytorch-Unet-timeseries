{
 "cells": [
  {
   "cell_type": "code",
   "execution_count": 1,
   "metadata": {},
   "outputs": [],
   "source": [
    "import pandas as pd"
   ]
  },
  {
   "cell_type": "code",
   "execution_count": 2,
   "metadata": {},
   "outputs": [],
   "source": [
    "sm_prepocessed = pd.read_csv(r\"../data/after_preprocess_data.csv\")\n",
    "label = pd.read_csv(r\"../data/label.csv\")"
   ]
  },
  {
   "cell_type": "code",
   "execution_count": 3,
   "metadata": {},
   "outputs": [
    {
     "data": {
      "text/plain": [
       "((3615, 1036), (38757, 1036))"
      ]
     },
     "execution_count": 3,
     "metadata": {},
     "output_type": "execute_result"
    }
   ],
   "source": [
    "thief = sm_prepocessed[sm_prepocessed.index.isin(label[label.flag ==1].index)]\n",
    "normal = sm_prepocessed[~sm_prepocessed.index.isin(label[label.flag ==1].index)]\n",
    "thief.shape, normal.shape"
   ]
  },
  {
   "cell_type": "code",
   "execution_count": 4,
   "metadata": {},
   "outputs": [],
   "source": [
    "zero_rows = thief[thief.eq(0).all(axis=1)]\n",
    "nonzero_rows = thief[~thief.eq(0).all(axis=1)]"
   ]
  },
  {
   "cell_type": "code",
   "execution_count": 5,
   "metadata": {},
   "outputs": [],
   "source": [
    "def has_continuous_zeros(row, threshold=30):\n",
    "    consecutive_zeros = 0\n",
    "    for value in row:\n",
    "        if value == 0:\n",
    "            consecutive_zeros += 1\n",
    "            if consecutive_zeros > threshold:\n",
    "                return True\n",
    "        else:\n",
    "            consecutive_zeros = 0\n",
    "    return False"
   ]
  },
  {
   "cell_type": "code",
   "execution_count": 6,
   "metadata": {},
   "outputs": [
    {
     "data": {
      "text/plain": [
       "(2654, 1036)"
      ]
     },
     "execution_count": 6,
     "metadata": {},
     "output_type": "execute_result"
    }
   ],
   "source": [
    "selected_rows = nonzero_rows[nonzero_rows.apply(has_continuous_zeros, axis=1)]\n",
    "selected_rows.shape"
   ]
  },
  {
   "cell_type": "code",
   "execution_count": 7,
   "metadata": {},
   "outputs": [
    {
     "data": {
      "text/plain": [
       "((2101, 1036), (36656, 1036))"
      ]
     },
     "execution_count": 7,
     "metadata": {},
     "output_type": "execute_result"
    }
   ],
   "source": [
    "zero_rows_normal = normal[normal.eq(0).all(axis=1)]\n",
    "nonzero_rows_normal = normal[~normal.eq(0).all(axis=1)]\n",
    "zero_rows_normal.shape, nonzero_rows_normal.shape"
   ]
  },
  {
   "cell_type": "code",
   "execution_count": 8,
   "metadata": {},
   "outputs": [
    {
     "data": {
      "text/plain": [
       "(23856, 1036)"
      ]
     },
     "execution_count": 8,
     "metadata": {},
     "output_type": "execute_result"
    }
   ],
   "source": [
    "selected_rows_normal = nonzero_rows_normal[nonzero_rows_normal.apply(has_continuous_zeros, axis=1)]\n",
    "selected_rows_normal.shape"
   ]
  }
 ],
 "metadata": {
  "kernelspec": {
   "display_name": "GAN",
   "language": "python",
   "name": "python3"
  },
  "language_info": {
   "codemirror_mode": {
    "name": "ipython",
    "version": 3
   },
   "file_extension": ".py",
   "mimetype": "text/x-python",
   "name": "python",
   "nbconvert_exporter": "python",
   "pygments_lexer": "ipython3",
   "version": "3.12.2"
  }
 },
 "nbformat": 4,
 "nbformat_minor": 2
}
